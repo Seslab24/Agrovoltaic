{
  "nbformat": 4,
  "nbformat_minor": 0,
  "metadata": {
    "colab": {
      "provenance": []
    },
    "kernelspec": {
      "name": "python3",
      "display_name": "Python 3"
    },
    "language_info": {
      "name": "python"
    },
    "widgets": {
      "application/vnd.jupyter.widget-state+json": {
        "eaebd23c66d548b0a153042f0b9d2762": {
          "model_module": "@jupyter-widgets/controls",
          "model_name": "DatePickerModel",
          "model_module_version": "1.5.0",
          "state": {
            "_dom_classes": [],
            "_model_module": "@jupyter-widgets/controls",
            "_model_module_version": "1.5.0",
            "_model_name": "DatePickerModel",
            "_view_count": null,
            "_view_module": "@jupyter-widgets/controls",
            "_view_module_version": "1.5.0",
            "_view_name": "DatePickerView",
            "description": "Start Date",
            "description_tooltip": null,
            "disabled": false,
            "layout": "IPY_MODEL_577fa8d4b0c44ae18f81ffee184d100e",
            "style": "IPY_MODEL_757f842cf65241eca61c2787c1a491a0",
            "value": {
              "year": 2024,
              "month": 2,
              "date": 1
            }
          }
        },
        "577fa8d4b0c44ae18f81ffee184d100e": {
          "model_module": "@jupyter-widgets/base",
          "model_name": "LayoutModel",
          "model_module_version": "1.2.0",
          "state": {
            "_model_module": "@jupyter-widgets/base",
            "_model_module_version": "1.2.0",
            "_model_name": "LayoutModel",
            "_view_count": null,
            "_view_module": "@jupyter-widgets/base",
            "_view_module_version": "1.2.0",
            "_view_name": "LayoutView",
            "align_content": null,
            "align_items": null,
            "align_self": null,
            "border": null,
            "bottom": null,
            "display": null,
            "flex": null,
            "flex_flow": null,
            "grid_area": null,
            "grid_auto_columns": null,
            "grid_auto_flow": null,
            "grid_auto_rows": null,
            "grid_column": null,
            "grid_gap": null,
            "grid_row": null,
            "grid_template_areas": null,
            "grid_template_columns": null,
            "grid_template_rows": null,
            "height": null,
            "justify_content": null,
            "justify_items": null,
            "left": null,
            "margin": null,
            "max_height": null,
            "max_width": null,
            "min_height": null,
            "min_width": null,
            "object_fit": null,
            "object_position": null,
            "order": null,
            "overflow": null,
            "overflow_x": null,
            "overflow_y": null,
            "padding": null,
            "right": null,
            "top": null,
            "visibility": null,
            "width": null
          }
        },
        "757f842cf65241eca61c2787c1a491a0": {
          "model_module": "@jupyter-widgets/controls",
          "model_name": "DescriptionStyleModel",
          "model_module_version": "1.5.0",
          "state": {
            "_model_module": "@jupyter-widgets/controls",
            "_model_module_version": "1.5.0",
            "_model_name": "DescriptionStyleModel",
            "_view_count": null,
            "_view_module": "@jupyter-widgets/base",
            "_view_module_version": "1.2.0",
            "_view_name": "StyleView",
            "description_width": ""
          }
        },
        "eb1795fa3456440d91b8f479d3969455": {
          "model_module": "@jupyter-widgets/controls",
          "model_name": "TextModel",
          "model_module_version": "1.5.0",
          "state": {
            "_dom_classes": [],
            "_model_module": "@jupyter-widgets/controls",
            "_model_module_version": "1.5.0",
            "_model_name": "TextModel",
            "_view_count": null,
            "_view_module": "@jupyter-widgets/controls",
            "_view_module_version": "1.5.0",
            "_view_name": "TextView",
            "continuous_update": true,
            "description": "Start Hour (HH:MM:SS)",
            "description_tooltip": null,
            "disabled": false,
            "layout": "IPY_MODEL_ab2548e6daf448d0984dc7cb2742ba3d",
            "placeholder": "​",
            "style": "IPY_MODEL_ffc098c80e3e4afbac1e75f12a53c715",
            "value": "00:00:00"
          }
        },
        "ab2548e6daf448d0984dc7cb2742ba3d": {
          "model_module": "@jupyter-widgets/base",
          "model_name": "LayoutModel",
          "model_module_version": "1.2.0",
          "state": {
            "_model_module": "@jupyter-widgets/base",
            "_model_module_version": "1.2.0",
            "_model_name": "LayoutModel",
            "_view_count": null,
            "_view_module": "@jupyter-widgets/base",
            "_view_module_version": "1.2.0",
            "_view_name": "LayoutView",
            "align_content": null,
            "align_items": null,
            "align_self": null,
            "border": null,
            "bottom": null,
            "display": null,
            "flex": null,
            "flex_flow": null,
            "grid_area": null,
            "grid_auto_columns": null,
            "grid_auto_flow": null,
            "grid_auto_rows": null,
            "grid_column": null,
            "grid_gap": null,
            "grid_row": null,
            "grid_template_areas": null,
            "grid_template_columns": null,
            "grid_template_rows": null,
            "height": null,
            "justify_content": null,
            "justify_items": null,
            "left": null,
            "margin": null,
            "max_height": null,
            "max_width": null,
            "min_height": null,
            "min_width": null,
            "object_fit": null,
            "object_position": null,
            "order": null,
            "overflow": null,
            "overflow_x": null,
            "overflow_y": null,
            "padding": null,
            "right": null,
            "top": null,
            "visibility": null,
            "width": null
          }
        },
        "ffc098c80e3e4afbac1e75f12a53c715": {
          "model_module": "@jupyter-widgets/controls",
          "model_name": "DescriptionStyleModel",
          "model_module_version": "1.5.0",
          "state": {
            "_model_module": "@jupyter-widgets/controls",
            "_model_module_version": "1.5.0",
            "_model_name": "DescriptionStyleModel",
            "_view_count": null,
            "_view_module": "@jupyter-widgets/base",
            "_view_module_version": "1.2.0",
            "_view_name": "StyleView",
            "description_width": ""
          }
        },
        "443dedb6e8d54465a8e08ab773d81f27": {
          "model_module": "@jupyter-widgets/controls",
          "model_name": "DatePickerModel",
          "model_module_version": "1.5.0",
          "state": {
            "_dom_classes": [],
            "_model_module": "@jupyter-widgets/controls",
            "_model_module_version": "1.5.0",
            "_model_name": "DatePickerModel",
            "_view_count": null,
            "_view_module": "@jupyter-widgets/controls",
            "_view_module_version": "1.5.0",
            "_view_name": "DatePickerView",
            "description": "End Date",
            "description_tooltip": null,
            "disabled": false,
            "layout": "IPY_MODEL_7434a5dffee4480bb4c9ed746ce4c468",
            "style": "IPY_MODEL_2b6ee333b5da4cc88c8159e0a243067d",
            "value": {
              "year": 2024,
              "month": 4,
              "date": 31
            }
          }
        },
        "7434a5dffee4480bb4c9ed746ce4c468": {
          "model_module": "@jupyter-widgets/base",
          "model_name": "LayoutModel",
          "model_module_version": "1.2.0",
          "state": {
            "_model_module": "@jupyter-widgets/base",
            "_model_module_version": "1.2.0",
            "_model_name": "LayoutModel",
            "_view_count": null,
            "_view_module": "@jupyter-widgets/base",
            "_view_module_version": "1.2.0",
            "_view_name": "LayoutView",
            "align_content": null,
            "align_items": null,
            "align_self": null,
            "border": null,
            "bottom": null,
            "display": null,
            "flex": null,
            "flex_flow": null,
            "grid_area": null,
            "grid_auto_columns": null,
            "grid_auto_flow": null,
            "grid_auto_rows": null,
            "grid_column": null,
            "grid_gap": null,
            "grid_row": null,
            "grid_template_areas": null,
            "grid_template_columns": null,
            "grid_template_rows": null,
            "height": null,
            "justify_content": null,
            "justify_items": null,
            "left": null,
            "margin": null,
            "max_height": null,
            "max_width": null,
            "min_height": null,
            "min_width": null,
            "object_fit": null,
            "object_position": null,
            "order": null,
            "overflow": null,
            "overflow_x": null,
            "overflow_y": null,
            "padding": null,
            "right": null,
            "top": null,
            "visibility": null,
            "width": null
          }
        },
        "2b6ee333b5da4cc88c8159e0a243067d": {
          "model_module": "@jupyter-widgets/controls",
          "model_name": "DescriptionStyleModel",
          "model_module_version": "1.5.0",
          "state": {
            "_model_module": "@jupyter-widgets/controls",
            "_model_module_version": "1.5.0",
            "_model_name": "DescriptionStyleModel",
            "_view_count": null,
            "_view_module": "@jupyter-widgets/base",
            "_view_module_version": "1.2.0",
            "_view_name": "StyleView",
            "description_width": ""
          }
        },
        "0f8f9df8d2d643f190340117863e6c58": {
          "model_module": "@jupyter-widgets/controls",
          "model_name": "TextModel",
          "model_module_version": "1.5.0",
          "state": {
            "_dom_classes": [],
            "_model_module": "@jupyter-widgets/controls",
            "_model_module_version": "1.5.0",
            "_model_name": "TextModel",
            "_view_count": null,
            "_view_module": "@jupyter-widgets/controls",
            "_view_module_version": "1.5.0",
            "_view_name": "TextView",
            "continuous_update": true,
            "description": "End Hour (HH:MM:SS)",
            "description_tooltip": null,
            "disabled": false,
            "layout": "IPY_MODEL_b245f1aeb5ea4d6e98f1edc769a7958e",
            "placeholder": "​",
            "style": "IPY_MODEL_64fb6ba250754a3389b1658315ec4020",
            "value": "23:59:59"
          }
        },
        "b245f1aeb5ea4d6e98f1edc769a7958e": {
          "model_module": "@jupyter-widgets/base",
          "model_name": "LayoutModel",
          "model_module_version": "1.2.0",
          "state": {
            "_model_module": "@jupyter-widgets/base",
            "_model_module_version": "1.2.0",
            "_model_name": "LayoutModel",
            "_view_count": null,
            "_view_module": "@jupyter-widgets/base",
            "_view_module_version": "1.2.0",
            "_view_name": "LayoutView",
            "align_content": null,
            "align_items": null,
            "align_self": null,
            "border": null,
            "bottom": null,
            "display": null,
            "flex": null,
            "flex_flow": null,
            "grid_area": null,
            "grid_auto_columns": null,
            "grid_auto_flow": null,
            "grid_auto_rows": null,
            "grid_column": null,
            "grid_gap": null,
            "grid_row": null,
            "grid_template_areas": null,
            "grid_template_columns": null,
            "grid_template_rows": null,
            "height": null,
            "justify_content": null,
            "justify_items": null,
            "left": null,
            "margin": null,
            "max_height": null,
            "max_width": null,
            "min_height": null,
            "min_width": null,
            "object_fit": null,
            "object_position": null,
            "order": null,
            "overflow": null,
            "overflow_x": null,
            "overflow_y": null,
            "padding": null,
            "right": null,
            "top": null,
            "visibility": null,
            "width": null
          }
        },
        "64fb6ba250754a3389b1658315ec4020": {
          "model_module": "@jupyter-widgets/controls",
          "model_name": "DescriptionStyleModel",
          "model_module_version": "1.5.0",
          "state": {
            "_model_module": "@jupyter-widgets/controls",
            "_model_module_version": "1.5.0",
            "_model_name": "DescriptionStyleModel",
            "_view_count": null,
            "_view_module": "@jupyter-widgets/base",
            "_view_module_version": "1.2.0",
            "_view_name": "StyleView",
            "description_width": ""
          }
        },
        "33f336d6ecb5455b9aa3f46479db792f": {
          "model_module": "@jupyter-widgets/controls",
          "model_name": "DropdownModel",
          "model_module_version": "1.5.0",
          "state": {
            "_dom_classes": [],
            "_model_module": "@jupyter-widgets/controls",
            "_model_module_version": "1.5.0",
            "_model_name": "DropdownModel",
            "_options_labels": [
              "temperature (ºC)",
              "air humidity (%)",
              "light (lux)",
              "water (%)",
              "ec (µS)",
              "battery (%)"
            ],
            "_view_count": null,
            "_view_module": "@jupyter-widgets/controls",
            "_view_module_version": "1.5.0",
            "_view_name": "DropdownView",
            "description": "Select Column:",
            "description_tooltip": null,
            "disabled": false,
            "index": 0,
            "layout": "IPY_MODEL_cdcbed2e802a4dbcb077ec3530a1b66e",
            "style": "IPY_MODEL_cfee65b9cd4f459aa0176928b69296b5"
          }
        },
        "cdcbed2e802a4dbcb077ec3530a1b66e": {
          "model_module": "@jupyter-widgets/base",
          "model_name": "LayoutModel",
          "model_module_version": "1.2.0",
          "state": {
            "_model_module": "@jupyter-widgets/base",
            "_model_module_version": "1.2.0",
            "_model_name": "LayoutModel",
            "_view_count": null,
            "_view_module": "@jupyter-widgets/base",
            "_view_module_version": "1.2.0",
            "_view_name": "LayoutView",
            "align_content": null,
            "align_items": null,
            "align_self": null,
            "border": null,
            "bottom": null,
            "display": null,
            "flex": null,
            "flex_flow": null,
            "grid_area": null,
            "grid_auto_columns": null,
            "grid_auto_flow": null,
            "grid_auto_rows": null,
            "grid_column": null,
            "grid_gap": null,
            "grid_row": null,
            "grid_template_areas": null,
            "grid_template_columns": null,
            "grid_template_rows": null,
            "height": null,
            "justify_content": null,
            "justify_items": null,
            "left": null,
            "margin": null,
            "max_height": null,
            "max_width": null,
            "min_height": null,
            "min_width": null,
            "object_fit": null,
            "object_position": null,
            "order": null,
            "overflow": null,
            "overflow_x": null,
            "overflow_y": null,
            "padding": null,
            "right": null,
            "top": null,
            "visibility": null,
            "width": null
          }
        },
        "cfee65b9cd4f459aa0176928b69296b5": {
          "model_module": "@jupyter-widgets/controls",
          "model_name": "DescriptionStyleModel",
          "model_module_version": "1.5.0",
          "state": {
            "_model_module": "@jupyter-widgets/controls",
            "_model_module_version": "1.5.0",
            "_model_name": "DescriptionStyleModel",
            "_view_count": null,
            "_view_module": "@jupyter-widgets/base",
            "_view_module_version": "1.2.0",
            "_view_name": "StyleView",
            "description_width": ""
          }
        },
        "1f6b2daeae0a4c289a2d17644f71c21e": {
          "model_module": "@jupyter-widgets/controls",
          "model_name": "ButtonModel",
          "model_module_version": "1.5.0",
          "state": {
            "_dom_classes": [],
            "_model_module": "@jupyter-widgets/controls",
            "_model_module_version": "1.5.0",
            "_model_name": "ButtonModel",
            "_view_count": null,
            "_view_module": "@jupyter-widgets/controls",
            "_view_module_version": "1.5.0",
            "_view_name": "ButtonView",
            "button_style": "",
            "description": "Generate Graphic",
            "disabled": false,
            "icon": "",
            "layout": "IPY_MODEL_f0b6a2bbc32b4e0982ab4cbf77a79b70",
            "style": "IPY_MODEL_63a78d7211484392bc88aaa29eff559b",
            "tooltip": ""
          }
        },
        "f0b6a2bbc32b4e0982ab4cbf77a79b70": {
          "model_module": "@jupyter-widgets/base",
          "model_name": "LayoutModel",
          "model_module_version": "1.2.0",
          "state": {
            "_model_module": "@jupyter-widgets/base",
            "_model_module_version": "1.2.0",
            "_model_name": "LayoutModel",
            "_view_count": null,
            "_view_module": "@jupyter-widgets/base",
            "_view_module_version": "1.2.0",
            "_view_name": "LayoutView",
            "align_content": null,
            "align_items": null,
            "align_self": null,
            "border": null,
            "bottom": null,
            "display": null,
            "flex": null,
            "flex_flow": null,
            "grid_area": null,
            "grid_auto_columns": null,
            "grid_auto_flow": null,
            "grid_auto_rows": null,
            "grid_column": null,
            "grid_gap": null,
            "grid_row": null,
            "grid_template_areas": null,
            "grid_template_columns": null,
            "grid_template_rows": null,
            "height": null,
            "justify_content": null,
            "justify_items": null,
            "left": null,
            "margin": null,
            "max_height": null,
            "max_width": null,
            "min_height": null,
            "min_width": null,
            "object_fit": null,
            "object_position": null,
            "order": null,
            "overflow": null,
            "overflow_x": null,
            "overflow_y": null,
            "padding": null,
            "right": null,
            "top": null,
            "visibility": null,
            "width": null
          }
        },
        "63a78d7211484392bc88aaa29eff559b": {
          "model_module": "@jupyter-widgets/controls",
          "model_name": "ButtonStyleModel",
          "model_module_version": "1.5.0",
          "state": {
            "_model_module": "@jupyter-widgets/controls",
            "_model_module_version": "1.5.0",
            "_model_name": "ButtonStyleModel",
            "_view_count": null,
            "_view_module": "@jupyter-widgets/base",
            "_view_module_version": "1.2.0",
            "_view_name": "StyleView",
            "button_color": null,
            "font_weight": ""
          }
        },
        "15167dfa58c54f03bbaacb7ad9d58419": {
          "model_module": "@jupyter-widgets/controls",
          "model_name": "ToggleButtonsModel",
          "model_module_version": "1.5.0",
          "state": {
            "_dom_classes": [],
            "_model_module": "@jupyter-widgets/controls",
            "_model_module_version": "1.5.0",
            "_model_name": "ToggleButtonsModel",
            "_options_labels": [
              "Traslapar",
              "No traslapar"
            ],
            "_view_count": null,
            "_view_module": "@jupyter-widgets/controls",
            "_view_module_version": "1.5.0",
            "_view_name": "ToggleButtonsView",
            "button_style": "",
            "description": "Combinar datos:",
            "description_tooltip": null,
            "disabled": false,
            "icons": [],
            "index": 1,
            "layout": "IPY_MODEL_1d4f55951c1342b7baf0b92528825d9c",
            "style": "IPY_MODEL_6e1b086ba52540ad877f2d10766ed60f",
            "tooltips": []
          }
        },
        "1d4f55951c1342b7baf0b92528825d9c": {
          "model_module": "@jupyter-widgets/base",
          "model_name": "LayoutModel",
          "model_module_version": "1.2.0",
          "state": {
            "_model_module": "@jupyter-widgets/base",
            "_model_module_version": "1.2.0",
            "_model_name": "LayoutModel",
            "_view_count": null,
            "_view_module": "@jupyter-widgets/base",
            "_view_module_version": "1.2.0",
            "_view_name": "LayoutView",
            "align_content": null,
            "align_items": null,
            "align_self": null,
            "border": null,
            "bottom": null,
            "display": null,
            "flex": null,
            "flex_flow": null,
            "grid_area": null,
            "grid_auto_columns": null,
            "grid_auto_flow": null,
            "grid_auto_rows": null,
            "grid_column": null,
            "grid_gap": null,
            "grid_row": null,
            "grid_template_areas": null,
            "grid_template_columns": null,
            "grid_template_rows": null,
            "height": null,
            "justify_content": null,
            "justify_items": null,
            "left": null,
            "margin": null,
            "max_height": null,
            "max_width": null,
            "min_height": null,
            "min_width": null,
            "object_fit": null,
            "object_position": null,
            "order": null,
            "overflow": null,
            "overflow_x": null,
            "overflow_y": null,
            "padding": null,
            "right": null,
            "top": null,
            "visibility": null,
            "width": null
          }
        },
        "6e1b086ba52540ad877f2d10766ed60f": {
          "model_module": "@jupyter-widgets/controls",
          "model_name": "ToggleButtonsStyleModel",
          "model_module_version": "1.5.0",
          "state": {
            "_model_module": "@jupyter-widgets/controls",
            "_model_module_version": "1.5.0",
            "_model_name": "ToggleButtonsStyleModel",
            "_view_count": null,
            "_view_module": "@jupyter-widgets/base",
            "_view_module_version": "1.2.0",
            "_view_name": "StyleView",
            "button_width": "",
            "description_width": "",
            "font_weight": ""
          }
        }
      }
    }
  },
  "cells": [
    {
      "cell_type": "markdown",
      "source": [
        "![image.png](data:image/png;base64,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)\n",
        "# Agrovoltaic\n",
        "\n",
        "Dr. Abel Méndez Porras\n",
        "\n",
        "Estudiante: Joshua Picado\n"
      ],
      "metadata": {
        "id": "x4fLw43jrtPw"
      }
    },
    {
      "cell_type": "markdown",
      "source": [
        "# importación de las bibliotecas"
      ],
      "metadata": {
        "id": "9JGOibtJ896q"
      }
    },
    {
      "cell_type": "code",
      "execution_count": null,
      "metadata": {
        "id": "1qINn0_x8q1w"
      },
      "outputs": [],
      "source": [
        "#Este módulo proporciona funcionalidades para montar Google Drive en el entorno de Colab.\n",
        "from google.colab import drive\n",
        "\n",
        "#Este módulo proporciona funcionalidades para interactuar con archivos en el entorno de Colab.\n",
        "from google.colab import files\n",
        "\n",
        "#Este módulo mostrará una tabla interactiva con los datos del DataFrame en el entorno de Google Colab.\n",
        "from google.colab import data_table\n",
        "\n",
        "#Se utiliza para trazar un gráfico de cuantiles-cuantiles (QQ plot), que es una herramienta\n",
        "#gráfica para comparar la distribución de una muestra de datos con una distribución teórica\n",
        "#o con otra muestra de datos.\n",
        "from statsmodels.graphics.gofplots import qqplot\n",
        "\n",
        "#Pangas se utiliza principalmente para el análisis y manipulación de datos tabulares.\n",
        "import pandas as pd\n",
        "\n",
        "#Seaborn es una biblioteca de visualización de datos en Python basada en Matplotlib,\n",
        "#que proporciona una interfaz de alto nivel para crear gráficos atractivos y informativos.\n",
        "import seaborn as sns\n",
        "\n",
        "#Proporciona una interfaz para interactuar con el sistema operativo.\n",
        "#trabajar con rutas de archivos y directorios\n",
        "import os\n",
        "\n",
        "#Realiza cálculos matemáticos y operaciones con arrays de forma eficiente.\n",
        "import numpy as np\n",
        "\n",
        "#Biblioteca que sirve para la interraccion mediante interfaz\n",
        "import ipywidgets as widgets\n",
        "\n",
        "#datetime permite realizar operaciones con el manejo del tiempo\n",
        "from datetime import datetime\n",
        "\n",
        "#Biblioteca para manejar la interfaz con botones\n",
        "from IPython.display import display\n",
        "\n",
        "# Importar Matplotlib y asignarle el alias \"plt\"\n",
        "#Matplotlib es una biblioteca de visualización de datos en Python que proporciona una API similar\n",
        "#a la de MATLAB para crear gráficos de alta calidad.\n",
        "import matplotlib.pyplot as plt\n",
        "\n",
        "# Importar Plotly\n",
        "import plotly.express as px\n",
        "import plotly.graph_objects as go\n",
        "\n",
        "# Configuración adicional para mejorar la estética de las visualizaciones\n",
        "sns.set(style=\"whitegrid\")  # Configurar estilo Seaborn\n",
        "\n",
        "#Si los datos en el eje x son fechas, puedes formatearlas para que sean más legibles\n",
        "#import matplotlib.dates as mdates"
      ]
    },
    {
      "cell_type": "markdown",
      "source": [
        "#ACESSO A GOOGLE DRIVE\n",
        "Permite el acceso a los documetos de google drive para su lectura"
      ],
      "metadata": {
        "id": "spMACTQ6euat"
      }
    },
    {
      "cell_type": "code",
      "source": [
        "#Metodo que llama al google drive\n",
        "drive.mount('/content/drive')"
      ],
      "metadata": {
        "id": "tgs1mLsKexnV",
        "colab": {
          "base_uri": "https://localhost:8080/"
        },
        "outputId": "820d365e-2b97-4b88-9084-1c9091581a49"
      },
      "execution_count": null,
      "outputs": [
        {
          "output_type": "stream",
          "name": "stdout",
          "text": [
            "Mounted at /content/drive\n"
          ]
        }
      ]
    },
    {
      "cell_type": "markdown",
      "source": [
        "#Lectura del archivo Excel con todos los datos\n",
        "Metodo para confirmar que el archivo fue leído exitosamente"
      ],
      "metadata": {
        "id": "i5gbJL3ffOKF"
      }
    },
    {
      "cell_type": "code",
      "source": [
        "# Ruta al archivo CSV en Google Drive\n",
        "ruta_archivo = \"/content/drive/MyDrive/Colab Notebooks/Investigación 2024/Agrovoltaic/Data/data_7057_1713819688093-panel horizontal exterior-sin procesar.csv\"\n",
        "\n",
        "# Leer el archivo CSV\n",
        "try:\n",
        "    df = pd.read_csv(ruta_archivo, sep=',')\n",
        "    print(\"Archivo CSV leído correctamente.\")\n",
        "except FileNotFoundError:\n",
        "    print(f\"Error: El archivo no se encuentra en la ruta especificada: {ruta_archivo}\")\n",
        "except Exception as e:\n",
        "    print(f\"Ocurrió un error al leer el archivo CSV: {e}\")\n"
      ],
      "metadata": {
        "id": "89_uDqtYfWgP",
        "colab": {
          "base_uri": "https://localhost:8080/"
        },
        "outputId": "9e49a7ee-8d1e-4366-dc45-923846979092"
      },
      "execution_count": null,
      "outputs": [
        {
          "output_type": "stream",
          "name": "stdout",
          "text": [
            "Archivo CSV leído correctamente.\n"
          ]
        }
      ]
    },
    {
      "cell_type": "markdown",
      "source": [
        "#Graficos de control\n",
        "Seccion que permite graficar los parametros del archivo"
      ],
      "metadata": {
        "id": "lJKKvXmyfjnu"
      }
    },
    {
      "cell_type": "code",
      "source": [
        "# Función para combinar fecha y hora\n",
        "def combinar_fecha_hora(date, time):\n",
        "    try:\n",
        "        return datetime.strptime(f\"{time} {date.strftime('%d/%m/%Y')}\", '%H:%M:%S %d/%m/%Y')\n",
        "    except Exception as e:\n",
        "        print(f\"Error in date/time format: {e}\")\n",
        "        return None\n",
        "\n",
        "# Función para filtrar los datos y graficar\n",
        "def plot_control_chart(ruta_archivo, start_datetime, end_datetime, column_to_plot, factor=3, title=\"Control Chart\", xlabel=\"Index\", ylabel=\"Value\", figsize=(12, 6), save_path=\"/content/drive/MyDrive/Colab Notebooks/Investigación 2024/Graficos\"):\n",
        "    # Cargar el archivo CSV\n",
        "    df = pd.read_csv(ruta_archivo)\n",
        "\n",
        "    # Convertir la columna 0 (fechas y horas) a formato datetime\n",
        "    df[df.columns[0]] = pd.to_datetime(df[df.columns[0]], format='%H:%M:%S %d/%m/%Y')\n",
        "\n",
        "    # Filtrar los datos por el rango de fechas\n",
        "    df = df[(df[df.columns[0]] >= start_datetime) & (df[df.columns[0]] <= end_datetime)]\n",
        "\n",
        "    # Revisar si hay datos después de filtrar\n",
        "    if df.empty:\n",
        "        print(\"There is no data in the selected range.\")\n",
        "        return\n",
        "\n",
        "    # Extraer las columnas para graficar\n",
        "    name_x = df.columns[0]  # columna de fechas\n",
        "    name_y = column_to_plot  # columna seleccionada por el usuario\n",
        "    x = df[name_x].copy()\n",
        "    y = df[name_y].copy()\n",
        "\n",
        "    # Calcular la media y la desviación estándar\n",
        "    mean = y.mean()\n",
        "    std_dev = y.std()\n",
        "\n",
        "    # Calcular los límites de control\n",
        "    UCL = mean + factor * std_dev\n",
        "    LCL = mean - factor * std_dev\n",
        "    y[14] = 50\n",
        "\n",
        "    # Comprobar puntos fuera de control\n",
        "    out_of_control = y[(y > UCL) | (y < LCL)]\n",
        "\n",
        "    # Graficar\n",
        "    plt.figure(figsize=figsize)\n",
        "    plt.plot(x, y, 'bo-', label='Data')\n",
        "    plt.axhline(y=mean, color='r', linestyle='--', label='Mean')\n",
        "    plt.axhline(y=UCL, color='g', linestyle='--', label='UCL')\n",
        "    plt.axhline(y=LCL, color='g', linestyle='--', label='LCL')\n",
        "\n",
        "    # Resaltar puntos fuera de control\n",
        "    if not out_of_control.empty:\n",
        "        plt.plot(x[out_of_control.index], y[out_of_control.index], 'ro', label='Out of Control')\n",
        "        for i in out_of_control.index:\n",
        "            plt.text(x[i], y[i], f'{y[i]:.2f}', color='red', fontsize=9, ha='right')\n",
        "\n",
        "    plt.xlabel(f\"{xlabel} (hours)\")\n",
        "    plt.xticks(rotation=45, ha='right')\n",
        "    plt.ylabel(name_y)\n",
        "    plt.title(title + \": \" + name_y)\n",
        "    plt.legend()\n",
        "    plt.grid(True)\n",
        "\n",
        "    # Crear directorio si no existe\n",
        "    os.makedirs(save_path, exist_ok=True)\n",
        "    file_path = os.path.join(save_path, f\"{title.replace(' ', '_')}_{column_to_plot}.png\")\n",
        "\n",
        "    # Guardar el gráfico\n",
        "    plt.savefig(file_path, dpi=300, bbox_inches='tight')\n",
        "    print(f\"Graphic saved at: {file_path}\")\n",
        "\n",
        "    # Mostrar el gráfico\n",
        "    plt.show()\n",
        "\n",
        "    # Alerta para puntos fuera de control\n",
        "    if not out_of_control.empty:\n",
        "        print(\"Alert: Out-of-control points detected at the following indices and values:\")\n",
        "        print(out_of_control)\n",
        "\n",
        "# Widgets para seleccionar fecha, hora y columna\n",
        "date_start = widgets.DatePicker(description='Start Date')\n",
        "time_start = widgets.Text(description='Start Hour (HH:MM:SS)', value='00:00:00')\n",
        "date_end = widgets.DatePicker(description='End Date')\n",
        "time_end = widgets.Text(description='End Hour (HH:MM:SS)', value='23:59:59')\n",
        "\n",
        "# Ruta del archivo CSV\n",
        "ruta_archivo = \"/content/drive/MyDrive/Colab Notebooks/Investigación 2024/Agrovoltaic/Data/data_7057_1713819688093-panel horizontal exterior-sin procesar.csv\"\n",
        "df = pd.read_csv(ruta_archivo)\n",
        "column_selector = widgets.Dropdown(options=df.columns[1:], description=\"Select Column:\")\n",
        "\n",
        "# Función que será ejecutada al hacer clic en el botón\n",
        "def ejecutar_grafico(b):\n",
        "    start_datetime = combinar_fecha_hora(date_start.value, time_start.value)\n",
        "    end_datetime = combinar_fecha_hora(date_end.value, time_end.value)\n",
        "    column_to_plot = column_selector.value\n",
        "\n",
        "    if start_datetime and end_datetime and column_to_plot:\n",
        "        save_path = \"/content/drive/MyDrive/Colab Notebooks/Investigación 2024/Graficos\"  # Ruta para guardar gráficos\n",
        "        plot_control_chart(ruta_archivo, start_datetime, end_datetime, column_to_plot, save_path=save_path)\n",
        "\n",
        "# Botón para generar el gráfico\n",
        "boton = widgets.Button(description=\"Generate Graphic\")\n",
        "boton.on_click(ejecutar_grafico)\n",
        "\n",
        "# Mostrar widgets y botón\n",
        "display(date_start, time_start, date_end, time_end, column_selector, boton)\n"
      ],
      "metadata": {
        "id": "ODxioeVnj4rZ",
        "colab": {
          "base_uri": "https://localhost:8080/",
          "height": 884,
          "referenced_widgets": [
            "eaebd23c66d548b0a153042f0b9d2762",
            "577fa8d4b0c44ae18f81ffee184d100e",
            "757f842cf65241eca61c2787c1a491a0",
            "eb1795fa3456440d91b8f479d3969455",
            "ab2548e6daf448d0984dc7cb2742ba3d",
            "ffc098c80e3e4afbac1e75f12a53c715",
            "443dedb6e8d54465a8e08ab773d81f27",
            "7434a5dffee4480bb4c9ed746ce4c468",
            "2b6ee333b5da4cc88c8159e0a243067d",
            "0f8f9df8d2d643f190340117863e6c58",
            "b245f1aeb5ea4d6e98f1edc769a7958e",
            "64fb6ba250754a3389b1658315ec4020",
            "33f336d6ecb5455b9aa3f46479db792f",
            "cdcbed2e802a4dbcb077ec3530a1b66e",
            "cfee65b9cd4f459aa0176928b69296b5",
            "1f6b2daeae0a4c289a2d17644f71c21e",
            "f0b6a2bbc32b4e0982ab4cbf77a79b70",
            "63a78d7211484392bc88aaa29eff559b"
          ]
        },
        "outputId": "46696ab8-79e2-4ffa-daaa-b97fa792bbef"
      },
      "execution_count": null,
      "outputs": [
        {
          "output_type": "display_data",
          "data": {
            "text/plain": [
              "DatePicker(value=None, description='Start Date')"
            ],
            "application/vnd.jupyter.widget-view+json": {
              "version_major": 2,
              "version_minor": 0,
              "model_id": "eaebd23c66d548b0a153042f0b9d2762"
            }
          },
          "metadata": {}
        },
        {
          "output_type": "display_data",
          "data": {
            "text/plain": [
              "Text(value='00:00:00', description='Start Hour (HH:MM:SS)')"
            ],
            "application/vnd.jupyter.widget-view+json": {
              "version_major": 2,
              "version_minor": 0,
              "model_id": "eb1795fa3456440d91b8f479d3969455"
            }
          },
          "metadata": {}
        },
        {
          "output_type": "display_data",
          "data": {
            "text/plain": [
              "DatePicker(value=None, description='End Date')"
            ],
            "application/vnd.jupyter.widget-view+json": {
              "version_major": 2,
              "version_minor": 0,
              "model_id": "443dedb6e8d54465a8e08ab773d81f27"
            }
          },
          "metadata": {}
        },
        {
          "output_type": "display_data",
          "data": {
            "text/plain": [
              "Text(value='23:59:59', description='End Hour (HH:MM:SS)')"
            ],
            "application/vnd.jupyter.widget-view+json": {
              "version_major": 2,
              "version_minor": 0,
              "model_id": "0f8f9df8d2d643f190340117863e6c58"
            }
          },
          "metadata": {}
        },
        {
          "output_type": "display_data",
          "data": {
            "text/plain": [
              "Dropdown(description='Select Column:', options=('temperature (ºC)', 'air humidity (%)', 'light (lux)', 'water …"
            ],
            "application/vnd.jupyter.widget-view+json": {
              "version_major": 2,
              "version_minor": 0,
              "model_id": "33f336d6ecb5455b9aa3f46479db792f"
            }
          },
          "metadata": {}
        },
        {
          "output_type": "display_data",
          "data": {
            "text/plain": [
              "Button(description='Generate Graphic', style=ButtonStyle())"
            ],
            "application/vnd.jupyter.widget-view+json": {
              "version_major": 2,
              "version_minor": 0,
              "model_id": "1f6b2daeae0a4c289a2d17644f71c21e"
            }
          },
          "metadata": {}
        },
        {
          "output_type": "stream",
          "name": "stdout",
          "text": [
            "Graphic saved at: /content/drive/MyDrive/Colab Notebooks/Investigación 2024/Graficos/Control_Chart_temperature (ºC).png\n"
          ]
        },
        {
          "output_type": "display_data",
          "data": {
            "text/plain": [
              "<Figure size 1200x600 with 1 Axes>"
            ],
            "image/png": "[encoded data removed]"
          },
          "metadata": {}
        },
        {
          "output_type": "stream",
          "name": "stdout",
          "text": [
            "Alert: Out-of-control points detected at the following indices and values:\n",
            "14    50.0\n",
            "Name: temperature (ºC), dtype: float64\n"
          ]
        }
      ]
    },
    {
      "cell_type": "markdown",
      "source": [
        "# Funcion que permite subir varios archivos\n",
        "Evita que no se traslape la información"
      ],
      "metadata": {
        "id": "6JJlQMEUnVkV"
      }
    },
    {
      "cell_type": "code",
      "source": [
        "# Cargar varios archivos desde el sistema local\n",
        "uploaded = files.upload()\n",
        "\n",
        "# Lista para almacenar DataFrames\n",
        "dataframes = []\n",
        "\n",
        "# Crear un widget para seleccionar si se traslapan los datos\n",
        "def process_selection(change):\n",
        "    global traslapar\n",
        "    traslapar = change['new']\n",
        "    process_files()\n",
        "\n",
        "traslapar_widget = widgets.ToggleButtons(\n",
        "    options=['Traslapar', 'No traslapar'],\n",
        "    description='Combinar datos:',\n",
        "    disabled=False,\n",
        "    button_style=''  # Cambiar a 'success', 'info', 'warning', 'danger' si lo deseas\n",
        ")\n",
        "traslapar_widget.observe(process_selection, names='value')\n",
        "\n",
        "# Mostrar el widget para elegir\n",
        "traslapar = None\n",
        "print(\"Selecciona una opción para combinar los datos:\")\n",
        "display(traslapar_widget)\n",
        "\n",
        "# Procesar cada archivo cargado\n",
        "def process_files():\n",
        "    global df_final\n",
        "\n",
        "    for fn in uploaded.keys():\n",
        "        print(f'Archivo cargado: \"{fn}\" con longitud {len(uploaded[fn])} bytes')\n",
        "\n",
        "        # Leer el archivo CSV en un DataFrame\n",
        "        df = pd.read_csv(fn, delimiter=\",\")\n",
        "        dataframes.append(df)\n",
        "\n",
        "    # Fusionar los archivos según la selección del usuario\n",
        "    if traslapar == 'Traslapar':\n",
        "        # Concatenar DataFrames permitiendo duplicados\n",
        "        df_final = pd.concat(dataframes, ignore_index=True)\n",
        "        print(\"Archivos traslapados (concatenados).\")\n",
        "    else:\n",
        "        # Concatenar sin duplicados (por filas únicas)\n",
        "        df_final = pd.concat(dataframes, ignore_index=True).drop_duplicates()\n",
        "        print(\"Archivos combinados sin traslapar información (sin duplicados).\")\n",
        "\n",
        "    # Mostrar las primeras filas del DataFrame final\n",
        "    print(\"Resultado final:\")\n",
        "    print(df_final.head())\n"
      ],
      "metadata": {
        "id": "LRyx0jJDndfF",
        "outputId": "5a46051e-a700-4af1-f01a-b9b06f345687",
        "colab": {
          "base_uri": "https://localhost:8080/",
          "height": 453,
          "referenced_widgets": [
            "15167dfa58c54f03bbaacb7ad9d58419",
            "1d4f55951c1342b7baf0b92528825d9c",
            "6e1b086ba52540ad877f2d10766ed60f"
          ]
        }
      },
      "execution_count": null,
      "outputs": [
        {
          "output_type": "display_data",
          "data": {
            "text/plain": [
              "<IPython.core.display.HTML object>"
            ],
            "text/html": [
              "\n",
              "     <input type=\"file\" id=\"files-b9b1c441-d3a7-4c69-a1fe-5bbd814865a0\" name=\"files[]\" multiple disabled\n",
              "        style=\"border:none\" />\n",
              "     <output id=\"result-b9b1c441-d3a7-4c69-a1fe-5bbd814865a0\">\n",
              "      Upload widget is only available when the cell has been executed in the\n",
              "      current browser session. Please rerun this cell to enable.\n",
              "      </output>\n",
              "      <script>// Copyright 2017 Google LLC\n",
              "//\n",
              "// Licensed under the Apache License, Version 2.0 (the \"License\");\n",
              "// you may not use this file except in compliance with the License.\n",
              "// You may obtain a copy of the License at\n",
              "//\n",
              "//      http://www.apache.org/licenses/LICENSE-2.0\n",
              "//\n",
              "// Unless required by applicable law or agreed to in writing, software\n",
              "// distributed under the License is distributed on an \"AS IS\" BASIS,\n",
              "// WITHOUT WARRANTIES OR CONDITIONS OF ANY KIND, either express or implied.\n",
              "// See the License for the specific language governing permissions and\n",
              "// limitations under the License.\n",
              "\n",
              "/**\n",
              " * @fileoverview Helpers for google.colab Python module.\n",
              " */\n",
              "(function(scope) {\n",
              "function span(text, styleAttributes = {}) {\n",
              "  const element = document.createElement('span');\n",
              "  element.textContent = text;\n",
              "  for (const key of Object.keys(styleAttributes)) {\n",
              "    element.style[key] = styleAttributes[key];\n",
              "  }\n",
              "  return element;\n",
              "}\n",
              "\n",
              "// Max number of bytes which will be uploaded at a time.\n",
              "const MAX_PAYLOAD_SIZE = 100 * 1024;\n",
              "\n",
              "function _uploadFiles(inputId, outputId) {\n",
              "  const steps = uploadFilesStep(inputId, outputId);\n",
              "  const outputElement = document.getElementById(outputId);\n",
              "  // Cache steps on the outputElement to make it available for the next call\n",
              "  // to uploadFilesContinue from Python.\n",
              "  outputElement.steps = steps;\n",
              "\n",
              "  return _uploadFilesContinue(outputId);\n",
              "}\n",
              "\n",
              "// This is roughly an async generator (not supported in the browser yet),\n",
              "// where there are multiple asynchronous steps and the Python side is going\n",
              "// to poll for completion of each step.\n",
              "// This uses a Promise to block the python side on completion of each step,\n",
              "// then passes the result of the previous step as the input to the next step.\n",
              "function _uploadFilesContinue(outputId) {\n",
              "  const outputElement = document.getElementById(outputId);\n",
              "  const steps = outputElement.steps;\n",
              "\n",
              "  const next = steps.next(outputElement.lastPromiseValue);\n",
              "  return Promise.resolve(next.value.promise).then((value) => {\n",
              "    // Cache the last promise value to make it available to the next\n",
              "    // step of the generator.\n",
              "    outputElement.lastPromiseValue = value;\n",
              "    return next.value.response;\n",
              "  });\n",
              "}\n",
              "\n",
              "/**\n",
              " * Generator function which is called between each async step of the upload\n",
              " * process.\n",
              " * @param {string} inputId Element ID of the input file picker element.\n",
              " * @param {string} outputId Element ID of the output display.\n",
              " * @return {!Iterable<!Object>} Iterable of next steps.\n",
              " */\n",
              "function* uploadFilesStep(inputId, outputId) {\n",
              "  const inputElement = document.getElementById(inputId);\n",
              "  inputElement.disabled = false;\n",
              "\n",
              "  const outputElement = document.getElementById(outputId);\n",
              "  outputElement.innerHTML = '';\n",
              "\n",
              "  const pickedPromise = new Promise((resolve) => {\n",
              "    inputElement.addEventListener('change', (e) => {\n",
              "      resolve(e.target.files);\n",
              "    });\n",
              "  });\n",
              "\n",
              "  const cancel = document.createElement('button');\n",
              "  inputElement.parentElement.appendChild(cancel);\n",
              "  cancel.textContent = 'Cancel upload';\n",
              "  const cancelPromise = new Promise((resolve) => {\n",
              "    cancel.onclick = () => {\n",
              "      resolve(null);\n",
              "    };\n",
              "  });\n",
              "\n",
              "  // Wait for the user to pick the files.\n",
              "  const files = yield {\n",
              "    promise: Promise.race([pickedPromise, cancelPromise]),\n",
              "    response: {\n",
              "      action: 'starting',\n",
              "    }\n",
              "  };\n",
              "\n",
              "  cancel.remove();\n",
              "\n",
              "  // Disable the input element since further picks are not allowed.\n",
              "  inputElement.disabled = true;\n",
              "\n",
              "  if (!files) {\n",
              "    return {\n",
              "      response: {\n",
              "        action: 'complete',\n",
              "      }\n",
              "    };\n",
              "  }\n",
              "\n",
              "  for (const file of files) {\n",
              "    const li = document.createElement('li');\n",
              "    li.append(span(file.name, {fontWeight: 'bold'}));\n",
              "    li.append(span(\n",
              "        `(${file.type || 'n/a'}) - ${file.size} bytes, ` +\n",
              "        `last modified: ${\n",
              "            file.lastModifiedDate ? file.lastModifiedDate.toLocaleDateString() :\n",
              "                                    'n/a'} - `));\n",
              "    const percent = span('0% done');\n",
              "    li.appendChild(percent);\n",
              "\n",
              "    outputElement.appendChild(li);\n",
              "\n",
              "    const fileDataPromise = new Promise((resolve) => {\n",
              "      const reader = new FileReader();\n",
              "      reader.onload = (e) => {\n",
              "        resolve(e.target.result);\n",
              "      };\n",
              "      reader.readAsArrayBuffer(file);\n",
              "    });\n",
              "    // Wait for the data to be ready.\n",
              "    let fileData = yield {\n",
              "      promise: fileDataPromise,\n",
              "      response: {\n",
              "        action: 'continue',\n",
              "      }\n",
              "    };\n",
              "\n",
              "    // Use a chunked sending to avoid message size limits. See b/62115660.\n",
              "    let position = 0;\n",
              "    do {\n",
              "      const length = Math.min(fileData.byteLength - position, MAX_PAYLOAD_SIZE);\n",
              "      const chunk = new Uint8Array(fileData, position, length);\n",
              "      position += length;\n",
              "\n",
              "      const base64 = btoa(String.fromCharCode.apply(null, chunk));\n",
              "      yield {\n",
              "        response: {\n",
              "          action: 'append',\n",
              "          file: file.name,\n",
              "          data: base64,\n",
              "        },\n",
              "      };\n",
              "\n",
              "      let percentDone = fileData.byteLength === 0 ?\n",
              "          100 :\n",
              "          Math.round((position / fileData.byteLength) * 100);\n",
              "      percent.textContent = `${percentDone}% done`;\n",
              "\n",
              "    } while (position < fileData.byteLength);\n",
              "  }\n",
              "\n",
              "  // All done.\n",
              "  yield {\n",
              "    response: {\n",
              "      action: 'complete',\n",
              "    }\n",
              "  };\n",
              "}\n",
              "\n",
              "scope.google = scope.google || {};\n",
              "scope.google.colab = scope.google.colab || {};\n",
              "scope.google.colab._files = {\n",
              "  _uploadFiles,\n",
              "  _uploadFilesContinue,\n",
              "};\n",
              "})(self);\n",
              "</script> "
            ]
          },
          "metadata": {}
        },
        {
          "output_type": "stream",
          "name": "stdout",
          "text": [
            "Saving data_7057_1713819688093-panel horizontal exterior-sin procesar1 - copia.csv to data_7057_1713819688093-panel horizontal exterior-sin procesar1 - copia (1).csv\n",
            "Saving data_7057_1713819688093-panel horizontal exterior-sin procesar1.csv to data_7057_1713819688093-panel horizontal exterior-sin procesar1 (1).csv\n",
            "Selecciona una opción para combinar los datos:\n"
          ]
        },
        {
          "output_type": "display_data",
          "data": {
            "text/plain": [
              "ToggleButtons(description='Combinar datos:', options=('Traslapar', 'No traslapar'), value='Traslapar')"
            ],
            "application/vnd.jupyter.widget-view+json": {
              "version_major": 2,
              "version_minor": 0,
              "model_id": "15167dfa58c54f03bbaacb7ad9d58419"
            }
          },
          "metadata": {}
        },
        {
          "output_type": "stream",
          "name": "stdout",
          "text": [
            "Archivo cargado: \"data_7057_1713819688093-panel horizontal exterior-sin procesar1 - copia (1).csv\" con longitud 32553 bytes\n",
            "Archivo cargado: \"data_7057_1713819688093-panel horizontal exterior-sin procesar1 (1).csv\" con longitud 32553 bytes\n",
            "Archivos combinados sin traslapar información (sin duplicados).\n",
            "Resultado final:\n",
            "        measure time  temperature (ºC)  air humidity (%)  light (lux)  \\\n",
            "0   8:27:4 28/3/2024              26.6              35.3            0   \n",
            "1   9:27:4 28/3/2024              25.6              35.9            0   \n",
            "2  10:27:4 28/3/2024              24.8              38.4            0   \n",
            "3  11:27:4 28/3/2024              25.1              39.7            0   \n",
            "4  12:27:4 28/3/2024              25.1              39.0           10   \n",
            "\n",
            "   water (%)    ec (µS)  battery (%)  \n",
            "0  29.523368  47.584940     87.04804  \n",
            "1  29.152178  47.247339     87.04804  \n",
            "2  29.236746  46.964704     87.04804  \n",
            "3  29.202933  46.683759     87.04804  \n",
            "4  28.948732  46.374806     87.04804  \n"
          ]
        }
      ]
    },
    {
      "cell_type": "markdown",
      "source": [
        "![github.png](data:image/png;base64,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)\n",
        "\n",
        "#Repositorio de github\n",
        "https://github.com/JoshuaPicado/Agrovoltaic1/blob/main/agrovoltaic.py\n"
      ],
      "metadata": {
        "id": "R4pMQVrEganW"
      }
    }
  ]
}